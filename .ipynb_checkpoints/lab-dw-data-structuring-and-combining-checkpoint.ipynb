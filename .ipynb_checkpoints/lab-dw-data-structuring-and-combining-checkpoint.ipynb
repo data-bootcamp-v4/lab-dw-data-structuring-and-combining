{
 "cells": [
  {
   "cell_type": "markdown",
   "id": "25d7736c-ba17-4aff-b6bb-66eba20fbf4e",
   "metadata": {},
   "source": [
    "# Lab | Data Structuring and Combining Data"
   ]
  },
  {
   "cell_type": "markdown",
   "id": "34ae7c66-9458-477c-8a31-c6b07a36bf66",
   "metadata": {},
   "source": [
    "Objective: \n",
    "- Combine and integrate data from multiple sources using merging, concatenating, or joining techniques to generate more comprehensive and meaningful datasets for analysis.\n",
    "- Modify the structure of data by pivoting, stacking/unstacking, or melting dataframes, enabling them to efficiently explore and analyze complex datasets. "
   ]
  },
  {
   "cell_type": "markdown",
   "id": "92b5f497-2c72-422b-86f7-06ad8842fd6d",
   "metadata": {},
   "source": [
    "# Challenge 1: Combining Data"
   ]
  },
  {
   "cell_type": "markdown",
   "id": "44f43906-6d37-4316-9ab4-7b6de18bc367",
   "metadata": {},
   "source": [
    "In this challenge, we will be working with the customer data from an insurance company, as we did in the two previous labs. The data can be found here:\n",
    "- https://raw.githubusercontent.com/data-bootcamp-v4/data/main/file1.csv\n",
    "\n",
    "But this time, we got new data, which can be found in the following 2 CSV files located at the following links: \n",
    "- https://raw.githubusercontent.com/data-bootcamp-v4/data/main/file2.csv\n",
    "- https://raw.githubusercontent.com/data-bootcamp-v4/data/main/file3.csv\n"
   ]
  },
  {
   "cell_type": "markdown",
   "id": "47bdd691-d5dd-4b85-a3be-3ca943cbf1e5",
   "metadata": {},
   "source": [
    "Perform data cleaning and formatting using the main cleaning and formatting function created in the previous lab to clean and format the data."
   ]
  },
  {
   "cell_type": "markdown",
   "id": "4eb4761d-8b1d-4ebb-a600-df45e1233ab4",
   "metadata": {},
   "source": [
    "Combine the data from the three dataframes into a single dataframe, named \"customer_data\", using appropriate merging, concatenating, and joining techniques.\n",
    "\n",
    "Verify that the customer_data dataframe contains all the rows and columns from the three original dataframes."
   ]
  },
  {
   "cell_type": "markdown",
   "id": "5d329067-5fe0-4a8f-b69d-d5b5cff0b7bf",
   "metadata": {},
   "source": [
    "Observation: \n",
    "- One option is to first combine the three datasets and then apply the cleaning function to the new combined dataset\n",
    "- Another option would be to read the clean file you saved in the previous lab, and just clean the two new files and concatenate the three clean datasets"
   ]
  },
  {
   "cell_type": "code",
   "execution_count": null,
   "id": "c1966851",
   "metadata": {},
   "outputs": [],
   "source": [
    "# Your code goes here\n",
    "\n",
    "import pandas as pd"
   ]
  },
  {
   "cell_type": "code",
   "execution_count": null,
   "id": "492d06e3-92c7-4105-ac72-536db98d3244",
   "metadata": {},
   "outputs": [],
   "source": [
    "url1 = 'https://raw.githubusercontent.com/data-bootcamp-v4/data/main/file1.csv'\n",
    "url2 = 'https://raw.githubusercontent.com/data-bootcamp-v4/data/main/file2.csv'\n",
    "url3 = 'https://raw.githubusercontent.com/data-bootcamp-v4/data/main/file3.csv'\n",
    "\n",
    "\n",
    "df1 = pd.read_csv(url1)\n",
    "df2 = pd.read_csv(url2)\n",
    "df3 = pd.read_csv(url3)"
   ]
  },
  {
   "cell_type": "code",
   "execution_count": null,
   "id": "2c590fed",
   "metadata": {},
   "outputs": [],
   "source": [
    "from coolfunctions import *\n",
    "\n",
    "lower_snake(df1)\n",
    "\n",
    "lower_snake(df2)\n",
    "\n",
    "lower_snake(df3)"
   ]
  },
  {
   "cell_type": "code",
   "execution_count": null,
   "id": "8b8b647a",
   "metadata": {},
   "outputs": [],
   "source": [
    "df3 = df3.rename(columns={'State':'st'})"
   ]
  },
  {
   "cell_type": "code",
   "execution_count": null,
   "id": "f4eecd77",
   "metadata": {},
   "outputs": [],
   "source": [
    "df_concat = pd.concat([df1, df2, df3])"
   ]
  },
  {
   "cell_type": "code",
   "execution_count": null,
   "id": "fec5867d",
   "metadata": {},
   "outputs": [],
   "source": [
    "df_concat['gender'] = df_concat['gender'].replace('Male', 'M').replace('female','F').replace('Femal','F')"
   ]
  },
  {
   "cell_type": "code",
   "execution_count": null,
   "id": "a7058cef",
   "metadata": {},
   "outputs": [],
   "source": [
    "df_concat['education'] = df_concat['education'].replace('Bachelors', 'Bachelor').replace('College','Bachelor')"
   ]
  },
  {
   "cell_type": "code",
   "execution_count": null,
   "id": "8cbccae8",
   "metadata": {},
   "outputs": [],
   "source": [
    "df_concat['st'] = df_concat['st'].replace('Cali', 'California').replace('WA','Washington').replace('AZ','Arizona')"
   ]
  },
  {
   "cell_type": "code",
   "execution_count": null,
   "id": "27126886",
   "metadata": {},
   "outputs": [],
   "source": [
    "df_concat[\"customer_lifetime_value\"] = df_concat[\"customer_lifetime_value\"].str.rstrip(\"%\").astype(float)/100"
   ]
  },
  {
   "cell_type": "code",
   "execution_count": null,
   "id": "100ef8dc",
   "metadata": {},
   "outputs": [],
   "source": [
    "df_concat[\"number_of_open_complaints\"] = df_concat[\"number_of_open_complaints\"].replace(\"1/0/00\",\"1\").replace(\"1/1/00\",\"1\").replace(\"1/2/00\",\"1\").replace(\"1/3/00\",\"1\").replace(\"1/4/00\",\"1\").replace(\"1/5/00\",\"1\").astype(float)"
   ]
  },
  {
   "cell_type": "code",
   "execution_count": null,
   "id": "ffff9cf5",
   "metadata": {},
   "outputs": [],
   "source": [
    "for x in list(df_concat.columns):\n",
    "    if df_concat[x].dtype == object:\n",
    "        df_concat[x] = df_concat[x].fillna('Unknown')\n",
    "        \n",
    "df_concat= df_concat.fillna(\"0\")"
   ]
  },
  {
   "cell_type": "code",
   "execution_count": null,
   "id": "388f8f13",
   "metadata": {},
   "outputs": [],
   "source": [
    "df_concat.loc[df_concat['customer'] == 'Unknown', :]"
   ]
  },
  {
   "cell_type": "code",
   "execution_count": null,
   "id": "8755b2e8",
   "metadata": {},
   "outputs": [],
   "source": [
    "condition = df_concat['customer'] == 'Unknown'\n",
    "\n",
    "df_concat = df_concat[~condition]\n"
   ]
  },
  {
   "cell_type": "code",
   "execution_count": null,
   "id": "3f9e9eb8",
   "metadata": {
    "scrolled": true
   },
   "outputs": [],
   "source": [
    "df_concat.loc[df_concat.duplicated(keep=False)]"
   ]
  },
  {
   "cell_type": "code",
   "execution_count": null,
   "id": "44bc949a",
   "metadata": {},
   "outputs": [],
   "source": [
    "df_concat = df_concat[~df_concat.duplicated(keep='first')]"
   ]
  },
  {
   "cell_type": "code",
   "execution_count": null,
   "id": "ccb23f27",
   "metadata": {},
   "outputs": [],
   "source": [
    "df_concat.duplicated().value_counts()"
   ]
  },
  {
   "cell_type": "markdown",
   "id": "31b8a9e7-7db9-4604-991b-ef6771603e57",
   "metadata": {},
   "source": [
    "# Challenge 2: Structuring Data"
   ]
  },
  {
   "cell_type": "markdown",
   "id": "541006a8-7f35-4a82-813e-ca10c1183668",
   "metadata": {},
   "source": [
    "In this challenge, we will continue to work with customer data from an insurance company, but we will use a dataset with more columns, called marketing_customer_analysis.csv, which can be found at the following link:\n",
    "\n",
    "https://raw.githubusercontent.com/data-bootcamp-v4/data/main/marketing_customer_analysis.csv\n",
    "\n",
    "This dataset contains information such as customer demographics, policy details, vehicle information, and the customer's response to the last marketing campaign. Our goal is to explore and analyze this data by performing data cleaning, formatting, and structuring."
   ]
  },
  {
   "cell_type": "markdown",
   "id": "2677810d-3180-4fbe-855b-525cf8d35208",
   "metadata": {},
   "source": [
    "## Exercise 1: Clean and Format the Data"
   ]
  },
  {
   "cell_type": "markdown",
   "id": "0aa50045-76ce-4e9f-8836-82dbc689d8dd",
   "metadata": {},
   "source": [
    "While the dataset has been partially cleaned and formatted, we still need to perform several data cleaning tasks. Specifically, we need to standardize the column names, clean null values, convert the effective_to_date column to datetime, and extract the months from the dataset and store them in a separate column. \n",
    "\n",
    "To accomplish these tasks, we will use the functions created in the previous step to standardize the column names and deal with null values, and then we will apply additional functions to convert the effective_to_date column to datetime and extract the months.\n",
    "\n",
    "Save the clean dataset into a csv file."
   ]
  },
  {
   "cell_type": "code",
   "execution_count": null,
   "id": "aa10d9b0-1c27-4d3f-a8e4-db6ab73bfd26",
   "metadata": {},
   "outputs": [],
   "source": [
    "# Your code goes here\n",
    "\n",
    "url4 = 'https://raw.githubusercontent.com/data-bootcamp-v4/data/main/marketing_customer_analysis.csv'\n",
    "df4 = pd.read_csv(url4)"
   ]
  },
  {
   "cell_type": "code",
   "execution_count": null,
   "id": "d1e1ec2d",
   "metadata": {},
   "outputs": [],
   "source": [
    "df4 = df4.drop('Unnamed: 0', axis=1)"
   ]
  },
  {
   "cell_type": "code",
   "execution_count": null,
   "id": "18500a04",
   "metadata": {},
   "outputs": [],
   "source": [
    "from coolfunctions import *"
   ]
  },
  {
   "cell_type": "code",
   "execution_count": null,
   "id": "c7750e9a",
   "metadata": {},
   "outputs": [],
   "source": [
    "df4 = lower_snake(df4)"
   ]
  },
  {
   "cell_type": "code",
   "execution_count": null,
   "id": "57ddefe0",
   "metadata": {},
   "outputs": [],
   "source": [
    "df4 = df4.rename(columns={'employmentstatus':'employment_status'})"
   ]
  },
  {
   "cell_type": "code",
   "execution_count": null,
   "id": "0dfbc586",
   "metadata": {},
   "outputs": [],
   "source": [
    "df4 = df4[~df4.duplicated(keep='first')]"
   ]
  },
  {
   "cell_type": "code",
   "execution_count": null,
   "id": "48d2731e",
   "metadata": {},
   "outputs": [],
   "source": [
    "correct_null(df4)"
   ]
  },
  {
   "cell_type": "code",
   "execution_count": null,
   "id": "6f41a730",
   "metadata": {},
   "outputs": [],
   "source": [
    "df4['effective_to_date'] = pd.to_datetime(df4['effective_to_date'])"
   ]
  },
  {
   "cell_type": "code",
   "execution_count": null,
   "id": "e0803aad",
   "metadata": {},
   "outputs": [],
   "source": [
    "df4['month'] = df4['effective_to_date'].dt.month"
   ]
  },
  {
   "cell_type": "code",
   "execution_count": null,
   "id": "eaccce6d",
   "metadata": {},
   "outputs": [],
   "source": [
    "df4.to_csv('cleandata',index=False)"
   ]
  },
  {
   "cell_type": "code",
   "execution_count": null,
   "id": "3ab79fc8",
   "metadata": {},
   "outputs": [],
   "source": []
  },
  {
   "cell_type": "markdown",
   "id": "41aee064",
   "metadata": {},
   "source": [
    "## Exercise 2: Structuring Data"
   ]
  },
  {
   "cell_type": "markdown",
   "id": "df35fd0d-513e-4e77-867e-429da10a9cc7",
   "metadata": {},
   "source": [
    "1. You work at the marketing department and you want to know which sales channel brought the most sales in terms of total revenue. Using pivot, create a summary table showing the total revenue for each sales channel (branch, call center, web, and mail).\n",
    "Round the total revenue to 2 decimal points.  Analyze the resulting table to draw insights."
   ]
  },
  {
   "cell_type": "markdown",
   "id": "640993b2-a291-436c-a34d-a551144f8196",
   "metadata": {},
   "source": [
    "2. Create a pivot table that shows the average customer lifetime value per gender and education level. Analyze the resulting table to draw insights."
   ]
  },
  {
   "cell_type": "markdown",
   "id": "32c7f2e5-3d90-43e5-be33-9781b6069198",
   "metadata": {},
   "source": [
    "3. You work at the customer service department and you want to know which months had the highest number of complaints by policy type category. Create a summary table showing the number of complaints by policy type and month.\n",
    "Show it in a long format table. "
   ]
  },
  {
   "cell_type": "markdown",
   "id": "e3d09a8f-953c-448a-a5f8-2e5a8cca7291",
   "metadata": {},
   "source": [
    "*In data analysis, a long format table is a way of structuring data in which each observation or measurement is stored in a separate row of the table. The key characteristic of a long format table is that each column represents a single variable, and each row represents a single observation of that variable.*\n",
    "\n",
    "*More information about long and wide format tables here: https://www.statology.org/long-vs-wide-data/*"
   ]
  },
  {
   "cell_type": "code",
   "execution_count": null,
   "id": "3a069e0b-b400-470e-904d-d17582191be4",
   "metadata": {},
   "outputs": [],
   "source": [
    "#1"
   ]
  },
  {
   "cell_type": "code",
   "execution_count": null,
   "id": "fb019806",
   "metadata": {},
   "outputs": [],
   "source": [
    "pivot1 = df4.pivot_table(index=['sales_channel'], values=['customer_lifetime_value'], aggfunc='sum')"
   ]
  },
  {
   "cell_type": "code",
   "execution_count": null,
   "id": "88015dd5",
   "metadata": {},
   "outputs": [],
   "source": [
    "pivot1['customer_lifetime_value'] = pivot1['customer_lifetime_value'].round(2)"
   ]
  },
  {
   "cell_type": "code",
   "execution_count": null,
   "id": "4a6629e0",
   "metadata": {},
   "outputs": [],
   "source": [
    "pivot1 = pivot1.reset_index(drop=False)"
   ]
  },
  {
   "cell_type": "code",
   "execution_count": null,
   "id": "78681edf",
   "metadata": {},
   "outputs": [],
   "source": [
    "pivot1\n",
    "\n",
    "# The most effective sales channel is agent and the least effective is web."
   ]
  },
  {
   "cell_type": "code",
   "execution_count": null,
   "id": "3ea62e76",
   "metadata": {},
   "outputs": [],
   "source": [
    "# 2"
   ]
  },
  {
   "cell_type": "code",
   "execution_count": null,
   "id": "bd391ac9",
   "metadata": {},
   "outputs": [],
   "source": [
    "pivot2 = df4.pivot_table(index=['education'],columns=['gender'],values=['customer_lifetime_value'],aggfunc='mean')"
   ]
  },
  {
   "cell_type": "code",
   "execution_count": null,
   "id": "c0478fe6",
   "metadata": {},
   "outputs": [],
   "source": [
    "pivot2\n",
    "\n",
    "# The education categories that generate the highest average lifetime value, for both men and women, are \"master\" and \"high school or below\"."
   ]
  },
  {
   "cell_type": "code",
   "execution_count": null,
   "id": "d398f966",
   "metadata": {},
   "outputs": [],
   "source": [
    "# 3"
   ]
  },
  {
   "cell_type": "code",
   "execution_count": null,
   "id": "0802df38",
   "metadata": {},
   "outputs": [],
   "source": [
    "df4['number_of_open_complaints'] = df4['number_of_open_complaints'].astype(int)"
   ]
  },
  {
   "cell_type": "code",
   "execution_count": null,
   "id": "bb1d77e1",
   "metadata": {},
   "outputs": [],
   "source": [
    "pivot3 = df4.pivot_table(index=['policy_type'],columns=['month'],values=['number_of_open_complaints'],aggfunc='sum')"
   ]
  },
  {
   "cell_type": "code",
   "execution_count": null,
   "id": "2d310bc7",
   "metadata": {},
   "outputs": [],
   "source": [
    "pivot3"
   ]
  },
  {
   "cell_type": "code",
   "execution_count": null,
   "id": "e70b6c43",
   "metadata": {},
   "outputs": [],
   "source": [
    "melted = pd.melt(pivot3.reset_index(),id_vars=\"policy_type\",value_name='value',ignore_index=True)\n",
    "melted.drop(columns=[None])"
   ]
  }
 ],
 "metadata": {
  "kernelspec": {
   "display_name": "Python 3 (ipykernel)",
   "language": "python",
   "name": "python3"
  },
  "language_info": {
   "codemirror_mode": {
    "name": "ipython",
    "version": 3
   },
   "file_extension": ".py",
   "mimetype": "text/x-python",
   "name": "python",
   "nbconvert_exporter": "python",
   "pygments_lexer": "ipython3",
   "version": "3.10.9"
  }
 },
 "nbformat": 4,
 "nbformat_minor": 5
}
